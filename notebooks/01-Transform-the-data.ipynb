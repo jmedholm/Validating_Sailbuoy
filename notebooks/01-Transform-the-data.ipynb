{
 "cells": [
  {
   "cell_type": "markdown",
   "id": "751f0c5b-3557-4d39-8f30-4a95bcf36283",
   "metadata": {},
   "source": [
    "# Transform the data"
   ]
  },
  {
   "cell_type": "markdown",
   "id": "1bba6cb6-092e-4e1e-a1e2-4785170314ae",
   "metadata": {},
   "source": [
    "We need to transform, add variables, add attributes, etc., so that other notebooks only have to load in the netCDF-files."
   ]
  },
  {
   "cell_type": "code",
   "execution_count": 1,
   "id": "2de687d6-c188-4fd1-b788-7ae5d039bd3f",
   "metadata": {},
   "outputs": [
    {
     "name": "stdout",
     "output_type": "stream",
     "text": [
      "%pylab is deprecated, use %matplotlib inline and import the required libraries.\n",
      "Populating the interactive namespace from numpy and matplotlib\n"
     ]
    }
   ],
   "source": [
    "%matplotlib inline\n",
    "%pylab inline\n",
    "import xarray as xr\n",
    "import pandas as pd\n",
    "import datetime\n",
    "import glob\n",
    "import matplotlib.dates as mdates\n",
    "import gsw\n",
    "import os\n",
    "import pathlib\n",
    "import geomag\n",
    "import warnings\n",
    "warnings.simplefilter(action='ignore', category=FutureWarning)\n",
    "import numpy as np"
   ]
  },
  {
   "cell_type": "markdown",
   "id": "99c69432-a529-413e-b4d6-7bf916029f96",
   "metadata": {
    "tags": []
   },
   "source": [
    "## Functions"
   ]
  },
  {
   "cell_type": "code",
   "execution_count": 2,
   "id": "c8bf7389-0036-481f-961d-cd4f0f291093",
   "metadata": {},
   "outputs": [],
   "source": [
    "def calc_mag_dec(ds):\n",
    "    \n",
    "    \"\"\"\n",
    "    Calculate magnetic declination for each time step in the dataset.\n",
    "\n",
    "    Parameters:\n",
    "        ds (xr.Dataset): Dataset containing latitude and longitude coordinates.\n",
    "\n",
    "    Returns:\n",
    "        np.ndarray: Array of magnetic declination values.\n",
    "    \"\"\"\n",
    "    \n",
    "    # Initialize an empty array to store the magnetic declination values\n",
    "    mag_dec = np.empty(len(ds['time']), dtype=float)\n",
    "\n",
    "    # Loop over each time step and calculate the magnetic declination\n",
    "    for i in range(len(ds.time)):\n",
    "        mag_dec[i] = geomag.declination(ds.latitude[i], ds.longitude[i])\n",
    "\n",
    "    return mag_dec"
   ]
  },
  {
   "cell_type": "code",
   "execution_count": 3,
   "id": "2bc1417f-7bef-4787-bc6a-7d99d96b109a",
   "metadata": {},
   "outputs": [],
   "source": [
    "def angle_diff(ds,var1,var2):\n",
    "    return np.angle(np.exp(1j * np.deg2rad(ds[var1])) / np.exp(1j * np.deg2rad(ds[var2].values)), deg=True)"
   ]
  },
  {
   "cell_type": "markdown",
   "id": "4ad241b5-65c0-4641-9b4c-ef629fafc858",
   "metadata": {
    "tags": []
   },
   "source": [
    "## Uncrewed Surface Vessels"
   ]
  },
  {
   "cell_type": "markdown",
   "id": "861b2a32-427f-4b28-9e0b-be36b3b85527",
   "metadata": {
    "tags": []
   },
   "source": [
    "### Sailbuoys"
   ]
  },
  {
   "cell_type": "code",
   "execution_count": 13,
   "id": "932c81d4-1616-4d47-9fe4-c9d071ca0462",
   "metadata": {},
   "outputs": [],
   "source": [
    "def process_sailbuoy_dataset(dataset_path, ref_date, start_date, stop_date, heading_var, wind_dir_var, dcps_dir_var, currents=True, correct_heading=True):\n",
    "    \n",
    "    \"\"\"\n",
    "    Process sailbuoy dataset by calculating additional variables and coordinates.\n",
    "\n",
    "    Parameters:\n",
    "        dataset_path (str): Path to the dataset file.\n",
    "        ref_date (str): Reference date for calculating 'doy' coordinate.\n",
    "        start_date (str): Start date for selecting the time range.\n",
    "        stop_date (str): Stop date for selecting the time range.\n",
    "        heading_var (str): Variable name for Sailbuoy heading.\n",
    "        wind_dir_var (str): Variable name for wind direction.\n",
    "        dcps_dir_var (str): Variable name for DCPS direction.\n",
    "        currents (bool): Flag indicating whether to calculate 'hrc' (heading relative current).\n",
    "        correct_heading (bool): Flag indicating whether to correct the heading using 'calc_mag_dec'.\n",
    "\n",
    "    Returns:\n",
    "        xr.Dataset: Processed sailbuoy dataset.\n",
    "    \"\"\"\n",
    "    \n",
    "    # Open the dataset\n",
    "    dataset = xr.open_dataset(dataset_path)\n",
    "\n",
    "    # Sort and select the time range    \n",
    "    # Calculate 'mday' and 'doy' coordinates\n",
    "    dataset['doy'] = ('time'), mdates.date2num(dataset['time']) - mdates.date2num(np.datetime64(ref_date))\n",
    "    dataset['mday'] = ('time'), mdates.date2num(dataset['time']) - mdates.date2num(dataset['time'].values[0])\n",
    "    dataset = dataset.set_coords('doy')\n",
    "    dataset = dataset.set_coords('mday')\n",
    "\n",
    "    if correct_heading == True:\n",
    "        # Correct the heading given the local magnetic deviation\n",
    "        dataset[heading_var] = dataset[heading_var] + calc_mag_dec(dataset)\n",
    "\n",
    "    # Calculate 'heading relative wind' and 'heading relative current' using the 'angle_diff' function\n",
    "    dataset['hrw'] = ('time'), angle_diff(dataset, heading_var, wind_dir_var)\n",
    "    \n",
    "    if currents == True:\n",
    "        dataset['hrc'] = ('time'), angle_diff(dataset, heading_var, dcps_dir_var)\n",
    "    \n",
    "    return dataset"
   ]
  },
  {
   "cell_type": "markdown",
   "id": "11a5b9f6-931e-45d8-9b87-906a5f5dcb28",
   "metadata": {
    "tags": []
   },
   "source": [
    "#### Kringla"
   ]
  },
  {
   "cell_type": "code",
   "execution_count": 18,
   "id": "d4720fb6-558d-4980-9755-5da373e6cb6a",
   "metadata": {},
   "outputs": [],
   "source": [
    "## SO-CHIC\n",
    "sb_s = process_sailbuoy_dataset(dataset_path    = '/Users/xedhjo/Documents/Projects/SO-CHIC/data/DATA.nc',\n",
    "                                ref_date        = '2022-01-02',\n",
    "                                start_date      = '2021',\n",
    "                                stop_date       = '2022-07-17',\n",
    "                                heading_var     = 'airmar_heading',\n",
    "                                wind_dir_var    = 'wind_dir',\n",
    "                                dcps_dir_var    = 'dcps_dir', \n",
    "                                currents        = True,\n",
    "                                correct_heading = True)\n",
    "## QUICCHE\n",
    "sb_k = process_sailbuoy_dataset(dataset_path    = '/Users/xedhjo/Documents/Projects/QUICCHE/data/Kringla_QUICCHE_data.nc',\n",
    "                                ref_date        = '2023-01-02',\n",
    "                                start_date      = '2021',\n",
    "                                stop_date       = '2024',\n",
    "                                heading_var     = 'airmar_heading',\n",
    "                                wind_dir_var    = 'wind_dir',\n",
    "                                dcps_dir_var    = 'dcps_dir', \n",
    "                                currents        = True,\n",
    "                                correct_heading = True)"
   ]
  },
  {
   "cell_type": "markdown",
   "id": "2f0868a5-000c-4d7a-9ac8-071bd7d2eb5c",
   "metadata": {
    "tags": []
   },
   "source": [
    "#### PimPim"
   ]
  },
  {
   "cell_type": "code",
   "execution_count": 17,
   "id": "9697148d-c1e9-4389-bceb-837375d6004c",
   "metadata": {},
   "outputs": [],
   "source": [
    "## QUICCHE First deployment\n",
    "sb_pp1 = process_sailbuoy_dataset(dataset_path    = '/Users/xedhjo/Documents/Projects/QUICCHE/data/sailbuoy/PimPim/First_deployment/DATA.nc',\n",
    "                                  ref_date        = '2023-01-02',\n",
    "                                  start_date      = '2021',\n",
    "                                  stop_date       = '2024',\n",
    "                                  heading_var     = 'heading',\n",
    "                                  wind_dir_var    = 'wind_dir',\n",
    "                                  dcps_dir_var    = 'dcps_dir', \n",
    "                                  currents        = True,\n",
    "                                  correct_heading = True)\n",
    "## QUICCHE Full mission\n",
    "sb_pp = process_sailbuoy_dataset(dataset_path    = '/Users/xedhjo/Documents/Projects/QUICCHE/data/sailbuoy/PimPim/full/DATA.nc',\n",
    "                                 ref_date        = '2023-01-02',\n",
    "                                 start_date      = '2021',\n",
    "                                 stop_date       = '2024',\n",
    "                                 heading_var     = 'heading',\n",
    "                                 wind_dir_var    = 'wind_dir',\n",
    "                                 dcps_dir_var    = 'dcps_dir', \n",
    "                                 currents        = True,\n",
    "                                 correct_heading = True)"
   ]
  },
  {
   "cell_type": "code",
   "execution_count": 20,
   "id": "6e9f765d-5a48-4db3-96e6-91b5a5ad1eb0",
   "metadata": {},
   "outputs": [
    {
     "name": "stderr",
     "output_type": "stream",
     "text": [
      "/Users/xedhjo/opt/miniconda3/envs/env/lib/python3.11/site-packages/pandas/core/arrays/timedeltas.py:908: RuntimeWarning: invalid value encountered in cast\n",
      "  base = data.astype(np.int64)\n",
      "/Users/xedhjo/opt/miniconda3/envs/env/lib/python3.11/site-packages/pandas/core/arrays/timedeltas.py:912: RuntimeWarning: invalid value encountered in cast\n",
      "  data = (base * m + (frac * m).astype(np.int64)).view(\"timedelta64[ns]\")\n",
      "/Users/xedhjo/opt/miniconda3/envs/env/lib/python3.11/site-packages/xarray/coding/times.py:601: RuntimeWarning: invalid value encountered in cast\n",
      "  int_num = np.asarray(num, dtype=np.int64)\n",
      "/Users/xedhjo/opt/miniconda3/envs/env/lib/python3.11/site-packages/pandas/core/arrays/timedeltas.py:908: RuntimeWarning: invalid value encountered in cast\n",
      "  base = data.astype(np.int64)\n",
      "/Users/xedhjo/opt/miniconda3/envs/env/lib/python3.11/site-packages/pandas/core/arrays/timedeltas.py:912: RuntimeWarning: invalid value encountered in cast\n",
      "  data = (base * m + (frac * m).astype(np.int64)).view(\"timedelta64[ns]\")\n",
      "/Users/xedhjo/opt/miniconda3/envs/env/lib/python3.11/site-packages/xarray/coding/times.py:601: RuntimeWarning: invalid value encountered in cast\n",
      "  int_num = np.asarray(num, dtype=np.int64)\n"
     ]
    }
   ],
   "source": [
    "sb_s.to_netcdf('/Users/xedhjo/Documents/Projects/2023_Validating_Sailbuoy/data/kringla_sochic.nc')\n",
    "sb_k.to_netcdf('/Users/xedhjo/Documents/Projects/2023_Validating_Sailbuoy/data/kringla_quicche.nc')\n",
    "sb_pp1.to_netcdf('/Users/xedhjo/Documents/Projects/2023_Validating_Sailbuoy/data/pimpim_quicche_first.nc')\n",
    "sb_pp.to_netcdf('/Users/xedhjo/Documents/Projects/2023_Validating_Sailbuoy/data/pimpim_quicche_full.nc')"
   ]
  },
  {
   "cell_type": "markdown",
   "id": "7100cbaa-ae5d-419f-83a3-3f26d0e6ec87",
   "metadata": {
    "tags": []
   },
   "source": [
    "### Saildrone"
   ]
  },
  {
   "cell_type": "markdown",
   "id": "caea74a7-fe52-4251-bfd3-9a2221a52a09",
   "metadata": {},
   "source": [
    "#### 1067"
   ]
  },
  {
   "cell_type": "code",
   "execution_count": 59,
   "id": "295b44ba-41ef-4d1d-9cfe-bdd96fafadbd",
   "metadata": {},
   "outputs": [],
   "source": [
    "## SO-CHIC\n",
    "sd1067 = xr.open_mfdataset('/Users/xedhjo/Documents/Projects/saildrone/sd-1067/daily_files/1min/saildrone*.nc',combine='nested', concat_dim='obs').load().squeeze().swap_dims({'obs':'time'})\n",
    "sd1067['doy'] = xr.DataArray(mdates.date2num(sd1067['time']) - mdates.date2num(np.datetime64('2022-01-02')),dims='time')\n",
    "sd1067['mday'] = xr.DataArray(mdates.date2num(sd1067['time']) - mdates.date2num(sd1067['time'].values[0]),dims='time')\n",
    "sd1067 = sd1067.set_coords('doy')\n",
    "sd1067 = sd1067.set_coords('mday')\n",
    "sd1067['hrw'] = ('time'),angle_diff(sd1067,'HDG','WIND_FROM_MEAN')"
   ]
  },
  {
   "cell_type": "code",
   "execution_count": 60,
   "id": "aa6412c1-ef55-4a45-834b-7fd708742d4b",
   "metadata": {},
   "outputs": [],
   "source": [
    "sd1067.drop('INSTRUMENT_STATE').to_netcdf('/Users/xedhjo/Documents/Projects/2023_Validating_Sailbuoy/data/SD1067_sochic.nc')"
   ]
  },
  {
   "cell_type": "markdown",
   "id": "287b87de-f24f-42cf-9d4b-0d3a12c9458c",
   "metadata": {
    "tags": []
   },
   "source": [
    "## Ship"
   ]
  },
  {
   "cell_type": "code",
   "execution_count": 4,
   "id": "5e3686ba-edd2-4885-8582-9ce663272419",
   "metadata": {},
   "outputs": [],
   "source": [
    "tmp = []\n",
    "ctd_files = glob.glob('/Volumes/MASSIVEUNIT/Data/QUICCHE/Ship drive copy/metacq/data/2303*.MET')\n",
    "\n",
    "for i in range(len(ctd_files)-1):\n",
    "    df = pd.read_csv(ctd_files[i+1],skiprows=3,delim_whitespace=True)\n",
    "    df['time'] = mdates.num2date([mdates.date2num(np.datetime64(f'2023-03-{str(5+i).zfill(2)}'))]*df.shape[0] + df.index.values/86400)\n",
    "    tmp.append(df)\n",
    "df = pd.concat(tmp)\n",
    "\n",
    "df['time'] = df['time'].dt.tz_localize(None).astype('datetime64[s]')\n",
    "df = df.set_index('time')\n",
    "ds = df.to_xarray()\n",
    "#ds = ds.resample(time='10min').mean()\n",
    "\n",
    "ds['doy'] = xr.DataArray(mdates.date2num(ds['time']) - mdates.date2num(np.datetime64('2023-01-02')),dims='time')\n",
    "ds['mday'] = xr.DataArray(mdates.date2num(ds['time']) - mdates.date2num(ds['time'].values[0]),dims='time')\n",
    "ds = ds.set_coords('doy')\n",
    "ds = ds.set_coords('mday')\n",
    "ds['hrw'] = ('time'),angle_diff(ds,'SH','TI')"
   ]
  },
  {
   "cell_type": "markdown",
   "id": "f54ca77d-c704-4937-8b05-8578bf87e25d",
   "metadata": {
    "tags": []
   },
   "source": [
    "### Add attributes"
   ]
  },
  {
   "cell_type": "code",
   "execution_count": 5,
   "id": "a412f4f1-f925-4d63-b274-93bbddc8f4da",
   "metadata": {
    "tags": []
   },
   "outputs": [],
   "source": [
    "# Rename variables, otherwise saving to a netCDF will be difficult\n",
    "rename_dict = {\n",
    "    '#Time': 'Time',\n",
    "    'RH-2': 'RH_2',\n",
    "    'RT-2': 'RT_2',\n",
    "    'DP-2': 'DP_2',\n",
    "    'WS-2': 'WS_2',\n",
    "    'WD-2': 'WD_2',\n",
    "    'TW-2': 'TW_2',\n",
    "    'TI-2': 'TI_2',\n",
    "    'TT-2': 'TT_2',\n",
    "    'TC-2': 'TC_2',\n",
    "    'SA-2': 'SA_2',\n",
    "    'SD-2': 'SD_2',\n",
    "    'SV-2': 'SV_2',\n",
    "    'TG-2': 'TG_2',\n",
    "    'FI-2': 'FI_2',\n",
    "    'FI-3': 'FI_3',\n",
    "    'VP-2': 'VP_2',\n",
    "    'VR-2': 'VR_2',\n",
    "    'VH-2': 'VH_2',\n",
    "    'ZO-2': 'ZO_2',\n",
    "    'ZS-2': 'ZS_2',\n",
    "    'ZT-2': 'ZT_2',\n",
    "    'ZI-2': 'ZI_2',\n",
    "    'TT-3': 'TT_3',\n",
    "    'TC-3': 'TC_3',\n",
    "    'SA-3': 'SA_3',\n",
    "    'TT-4': 'TT_4',\n",
    "    'TC-4': 'TC_4',\n",
    "    'SA-4': 'SA_4'\n",
    "}\n",
    "\n",
    "ds = ds.rename(rename_dict)"
   ]
  },
  {
   "cell_type": "code",
   "execution_count": 6,
   "id": "18c7bb8a-15b6-4fc1-a1bb-4dad0be421c7",
   "metadata": {
    "tags": []
   },
   "outputs": [],
   "source": [
    "status_explanation = [\n",
    "    \"0: 'Data Valid - Calibration corrections not applied'\",\n",
    "    \"1: 'Data Valid - Calibration corrections applied in Sensor module'\",\n",
    "    \"2: 'Data Valid - Calibration corrections applied in Acquisition program'\",\n",
    "    \"3: 'Data Valid - Both type 1 and type 2'\",\n",
    "    \"7: 'Data Invalid - Out of range'\",\n",
    "    \"8: 'Data Invalid - Data Emulated'\",\n",
    "    \"9: 'Data Invalid - No Valid Response from Input'\"\n",
    "]\n",
    "\n",
    "# Air Temperature Sensor\n",
    "var = 'AT'\n",
    "ds[var].attrs['module'] = 'TMP28'\n",
    "ds[var].attrs['module_number'] = 1\n",
    "ds[var].attrs['sensor'] = 'Air Temperature'\n",
    "ds[var].attrs['model'] = '41342VC'\n",
    "ds[var].attrs['serial'] = '27209'\n",
    "ds[var].attrs['manufacturer'] = 'RM Young'\n",
    "ds[var].attrs['location'] = \"MET Mast 56' above MWL\"\n",
    "ds[var].attrs['installed_height'] = 17\n",
    "ds[var].attrs['owner'] = 'SIO/STS'\n",
    "ds[var].attrs['calibration_laboratory'] = 'STS'\n",
    "ds[var].attrs['calibration_date'] = '20-Oct-2022'\n",
    "ds[var].attrs['installation_date'] = '28-Oct-2022'\n",
    "ds[var].attrs['comments'] = ''\n",
    "ds[var].attrs['write_to_file'] = \"True\"\n",
    "ds[var].attrs['number_parameters_returned_from_sensor'] = 1\n",
    "ds[var].attrs['additional_parameters_computed'] = 0\n",
    "ds[var].attrs['total'] = 1\n",
    "ds[var].attrs['parameter_tags'] = 'AT'\n",
    "ds[var].attrs['at_number'] = 1\n",
    "ds[var].attrs['seconds_averaged'] = 60.0\n",
    "ds[var].attrs['units'] = 'Deg C'\n",
    "ds[var].attrs['long_name'] = 'Air Temperature'\n",
    "ds[var].attrs['standard_name'] = 'air_temperature'\n",
    "ds[var].attrs['valid_min'] = -40.0\n",
    "ds[var].attrs['valid_max'] = 50.0\n",
    "ds[var].attrs['status'] = '2-OK'\n",
    "ds[var].attrs['status_explanation'] = status_explanation\n",
    "\n",
    "# Relative Humidity Sensor\n",
    "for i, var in enumerate(['RH', 'RT', 'DP', 'RH_2', 'RT_2', 'DP_2']):\n",
    "    if var in ['RH', 'RT', 'DP']:\n",
    "        ds[var].attrs['module'] = 'HRH06'\n",
    "        ds[var].attrs['module_number'] = 1\n",
    "    else:\n",
    "        ds[var].attrs['module'] = 'HRH24'\n",
    "        ds[var].attrs['module_number'] = 2\n",
    "\n",
    "    ds[var].attrs['sensor'] = 'Relative Humidity'\n",
    "    ds[var].attrs['model'] = 'EE08'\n",
    "    ds[var].attrs['serial_number'] = '173305000106A2' if var in ['RH', 'RT', 'DP'] else '17150500023924'\n",
    "    ds[var].attrs['manufacturer'] = 'E+E Elektronik'\n",
    "    ds[var].attrs['location'] = \"MET Mast 56'above MWL\"\n",
    "    ds[var].attrs['owner'] = 'SIO/STS'\n",
    "    ds[var].attrs['calibration_lab'] = 'STS'\n",
    "    ds[var].attrs['calibration_date'] = '25-Oct-2022'\n",
    "    ds[var].attrs['installation_date'] = '28-Oct-2022'\n",
    "    ds[var].attrs['comments'] = ''\n",
    "    ds[var].attrs['write_to_file'] = \"True\"\n",
    "    ds[var].attrs['number_parameters_returned_from_sensor'] = 2\n",
    "    ds[var].attrs['additional_parameters_computed'] = 1\n",
    "    ds[var].attrs['total'] = 3\n",
    "    ds[var].attrs['parameter_tags'] = ['RH', 'RT', 'DP']\n",
    "    ds[var].attrs[['rh_number', 'rt_number', 'dp_number'][i % 3]] = 1 if var in ['RH', 'RT', 'DP'] else 2\n",
    "    ds[var].attrs['seconds_averaged'] = 60.0 if var in ['RH', 'RT'] else 0\n",
    "    ds[var].attrs['units'] = 'percent' if var in ['RH', 'RH_2'] else 'degrees Celsius'\n",
    "    ds[var].attrs['long_name'] = 'Relative Humidity' if var in ['RH', 'RH_2'] else 'Relative Temperature' if var in ['RT', 'RT_2'] else 'Dew-point Temperature'\n",
    "    ds[var].attrs['standard_name'] = 'relative_humidity' if var in ['RH', 'RH_2'] else 'air_temperature' if var in ['RT', 'RT_2'] else 'dew_point_temperature'\n",
    "    ds[var].attrs['valid_min'] = 0.0 if var in ['RH', 'RH_2'] else -40.0\n",
    "    ds[var].attrs['valid_max'] = 100.0 if var in ['RH', 'RH_2'] else 60.0\n",
    "    ds[var].attrs['status'] = '2-OK'\n",
    "    ds[var].attrs['status_explanation'] = status_explanation\n",
    "    ds[var].attrs['installed_height'] = 17"
   ]
  },
  {
   "cell_type": "code",
   "execution_count": 7,
   "id": "4f2a2849-ab54-43d8-adf2-13af254af360",
   "metadata": {},
   "outputs": [],
   "source": [
    "# Wind Sensors\n",
    "\n",
    "for i, var in enumerate(['WS', 'WD', 'TW', 'TI', 'WS_2', 'WD_2', 'TW_2', 'TI_2']):\n",
    "    if var in ['WS', 'WD', 'TW', 'TI']:\n",
    "        ds[var].attrs['module'] = 'WND97'\n",
    "        ds[var].attrs['module_number'] = 1\n",
    "    else:\n",
    "        ds[var].attrs['module'] = 'WND09'\n",
    "        ds[var].attrs['module_number'] = 2\n",
    "\n",
    "    ds[var].attrs['sensor'] = 'Wind'\n",
    "    ds[var].attrs['model'] = '86106' if var in ['WS', 'WD', 'TW', 'TI'] else '5300'\n",
    "    ds[var].attrs['serial_number'] = '1297' if var in ['WS', 'WD', 'TW', 'TI'] else '17150500023924'\n",
    "    ds[var].attrs['manufacturer'] = 'RM Young'\n",
    "    ds[var].attrs['location'] = \"MET Mast 56'above MWL\" if var in ['WS', 'WD', 'TW', 'TI'] else \"Main Mast Starboard Side 82' above MWL\"\n",
    "    ds[var].attrs['owner'] = 'SIO/STS' if var in ['WS', 'WD', 'TW', 'TI'] else 'RV Roger Revelle'\n",
    "    ds[var].attrs['calibration_lab'] = 'STS' if var in ['WS', 'WD', 'TW', 'TI'] else 'RM Young'\n",
    "    ds[var].attrs['calibration_date'] = '11-Oct-2022' if var in ['WS', 'WD', 'TW', 'TI'] else '????'\n",
    "    ds[var].attrs['installation_date'] = '28-Oct-2022' if var in ['WS', 'WD', 'TW', 'TI'] else '1996'\n",
    "    ds[var].attrs['comments'] = ''\n",
    "    ds[var].attrs['write_to_file'] = \"True\"\n",
    "    ds[var].attrs['number_parameters_returned_from_sensor'] = 2\n",
    "    ds[var].attrs['additional_parameters_computed'] = 2\n",
    "    ds[var].attrs['total'] = 4\n",
    "    ds[var].attrs['parameter_tags'] = ['WS', 'WD', 'TW', 'TI']\n",
    "    ds[var].attrs[['ws_number', 'wd_number', 'tw_number', 'ti_number'][i % 4]] = 1 if var in ['WS', 'WD', 'TW', 'TI'] else 2\n",
    "    ds[var].attrs['status'] = '2-OK'\n",
    "    ds[var].attrs['seconds_averaged'] = 60.0 if var in ['WS', 'WD'] else 0\n",
    "    ds[var].attrs['units'] = 'm/s' if var in ['WS', 'WS_2', 'TW', 'TW_2'] else 'degrees'\n",
    "    ds[var].attrs['long_name'] = 'Relative Wind Speed' if var in ['WS', 'WS_2'] else 'Relative Wind Direction' if var in ['WD', 'WD_2'] else 'True Wind Speed' if var in ['TW', 'TW_2'] else 'True Wind Direction'\n",
    "    ds[var].attrs['standard_name'] = 'relative_wind_speed' if var in ['WS', 'WS_2'] else 'relative_wind_direction' if var in ['WD', 'WD_2'] else 'true_wind_peed' if var in ['TW', 'TW_2'] else 'true_wind_direction'\n",
    "    ds[var].attrs['valid_min'] = 0.0\n",
    "    ds[var].attrs['valid_max'] = 500.0 if var in ['WS', 'WS_2', 'TW', 'TW_2'] else 360.0\n",
    "    ds[var].attrs['status'] = '2-OK'\n",
    "    ds[var].attrs['status_explanation'] = status_explanation\n",
    "    ds[var].attrs['installed_height'] = 17 if var in ['WS', 'WD', 'TW', 'TI'] else 25"
   ]
  },
  {
   "cell_type": "code",
   "execution_count": 8,
   "id": "3065efb8-f0ef-4361-9013-a065f77d3fa4",
   "metadata": {},
   "outputs": [],
   "source": [
    "# Thermosalinograph Sensors\n",
    "\n",
    "for i, var in enumerate(['TT', 'TC', 'SA', 'SD', 'SV', 'TG', 'TT_2', 'TC_2', 'SA_2', 'SD_2', 'SV_2', 'TG_2']):\n",
    "    if var in ['TT', 'TC', 'SA', 'SD', 'SV', 'TG']:\n",
    "        ds[var].attrs['module'] = 'TSG82'\n",
    "        ds[var].attrs['module_number'] = 1\n",
    "    else:\n",
    "        ds[var].attrs['module'] = 'TSG18'\n",
    "        ds[var].attrs['module_number'] = 2\n",
    "\n",
    "    ds[var].attrs['sensor'] = 'Thermosalinograph'\n",
    "    ds[var].attrs['model'] = 'SBE45'\n",
    "    ds[var].attrs['serial_number'] = '0082' if var in ['TT', 'TC', 'SA', 'SD', 'SV', 'TG'] else '0318'\n",
    "    ds[var].attrs['manufacturer'] = 'Seabird'\n",
    "    ds[var].attrs['location'] = 'Bow thruster UCW intake' if var in ['TT', 'TC', 'SA', 'SD', 'SV', 'TG'] else 'Aft Hydro Lab'\n",
    "    ds[var].attrs['owner'] = 'SIO/STS'\n",
    "    ds[var].attrs['calibration_lab'] = 'Seabird'\n",
    "    ds[var].attrs['calibration_date'] = '14-Jul-2022'\n",
    "    ds[var].attrs['installation_date'] = '30-Oct-2022'\n",
    "    ds[var].attrs['comments'] = ''\n",
    "    ds[var].attrs['write_to_file'] = 'True'\n",
    "    ds[var].attrs['number_parameters_returned_from_sensor'] = 2\n",
    "    ds[var].attrs['additional_parameters_computed'] = 4\n",
    "    ds[var].attrs['total'] = 6\n",
    "    ds[var].attrs['parameter_tags'] = ['TT', 'TC', 'SA', 'SD', 'SV', 'TG']\n",
    "    ds[var].attrs[['tt_number', 'tc_number', 'sa_number', 'sd_number', 'sv_number', 'tg_number'][i % 6]] = 1 if var in ['TT', 'TC', 'SA', 'SD', 'SV', 'TG'] else 2\n",
    "    ds[var].attrs['status'] = '2-OK'\n",
    "    ds[var].attrs['seconds_averaged'] = 60.0 if var in ['TT', 'TC'] else 0\n",
    "    ds[var].attrs['units'] = 'Deg C' if var in ['TT', 'TT_2'] else 'mS/cm' if var in ['TC', 'TC_2'] else 'PSU' if var in ['SA', 'SA_2'] else 'Kg/m^3' if var in ['SD', 'SD_2'] else 'm/s' if var in ['SV', 'SV_2'] else ''\n",
    "    ds[var].attrs['long_name'] = 'Thermosalinograph Temperature' if var in ['TT', 'TT_2'] else 'Thermosalinograph Conductivity' if var in ['TC', 'TC_2'] else 'Salinity' if var in ['SA', 'SA_2'] else 'Sigma_t' if var in ['SD', 'SD_2'] else 'Sound Velocity' if var in ['SV', 'SV_2'] else 'Thermosalinograph Conductivity'\n",
    "    ds[var].attrs['standard_name'] = 'sea_water_temperature' if var in ['TT', 'TT_2'] else 'sea_water_electrical_conductivity' if var in ['TC', 'TC_2'] else 'sea_water_salinity' if var in ['SA', 'SA_2'] else 'sea_water_density' if var in ['SD', 'SD_2'] else 'sound_velocity' if var in ['SV', 'SV_2'] else 'sea_water_electrical_conductivity'\n",
    "    ds[var].attrs['valid_min'] = -5.0e0 if var in ['TT', 'TT_2'] else -5.0e0 if var in ['TC', 'TC_2'] else 0.0e0 if var in ['SA', 'SA_2'] else -1.0e1 if var in ['SD', 'SD_2'] else 1.0e3 if var in ['SV', 'SV_2'] else -1.0e10 if var in ['TG', 'TG_2'] else ''\n",
    "    ds[var].attrs['valid_max'] = 5.0e1 if var in ['TT', 'TT_2'] else 1.0e5 if var in ['TC', 'TC_2'] else 1.0e2 if var in ['SA', 'SA_2'] else 7.0e3 if var in ['SD', 'SD_2'] else 2.0e3 if var in ['SV', 'SV_2'] else 1.0e10 if var in ['TG', 'TG_2'] else ''\n",
    "    ds[var].attrs['status_explanation'] = status_explanation\n",
    "    ds[var].attrs['installed_height'] = \"????\""
   ]
  },
  {
   "cell_type": "code",
   "execution_count": 9,
   "id": "cf820caf-2d0b-4fe6-bd33-fcd05e3b6987",
   "metadata": {},
   "outputs": [],
   "source": [
    "# Surface Temperature Sensor\n",
    "var = 'ST'\n",
    "ds[var].attrs['module'] = 'SST53'\n",
    "ds[var].attrs['module_number'] = 1\n",
    "ds[var].attrs['sensor'] = 'Sea Surface Temperature'\n",
    "ds[var].attrs['model'] = 'SBE38'\n",
    "ds[var].attrs['serial'] = '1188'\n",
    "ds[var].attrs['manufacturer'] = 'Seabird'\n",
    "ds[var].attrs['location'] = \"Bow thruster UCW intake\"\n",
    "ds[var].attrs['installed_height'] = \"????\"\n",
    "ds[var].attrs['owner'] = 'SIO/STS'\n",
    "ds[var].attrs['calibration_laboratory'] = 'STS'\n",
    "ds[var].attrs['calibration_date'] = '05-Jan-2021'\n",
    "ds[var].attrs['installation_date'] = '27-May-2021'\n",
    "ds[var].attrs['comments'] = ''\n",
    "ds[var].attrs['write_to_file'] = \"True\"\n",
    "ds[var].attrs['number_parameters_returned_from_sensor'] = 1\n",
    "ds[var].attrs['additional_parameters_computed'] = 0\n",
    "ds[var].attrs['total'] = 1\n",
    "ds[var].attrs['parameter_tags'] = 'ST'\n",
    "ds[var].attrs['st_number'] = 1\n",
    "ds[var].attrs['seconds_averaged'] = 60.0\n",
    "ds[var].attrs['units'] = 'Deg C'\n",
    "ds[var].attrs['long_name'] = 'Sea Surface Temperature'\n",
    "ds[var].attrs['standard_name'] = 'sea_water_temperature'\n",
    "ds[var].attrs['valid_min'] = -5.0\n",
    "ds[var].attrs['valid_max'] = 50.0\n",
    "ds[var].attrs['status'] = '1-OK'\n",
    "ds[var].attrs['status_explanation'] = status_explanation"
   ]
  },
  {
   "cell_type": "code",
   "execution_count": 10,
   "id": "63eccb93-23e2-48a3-b562-0d9615ae73f6",
   "metadata": {},
   "outputs": [],
   "source": [
    "# Attitude sensor (for heading)\n",
    "for i, var in enumerate(['SH', 'SM', 'SR']):\n",
    "    \n",
    "    ds[var].attrs['module'] = 'ASH01'\n",
    "    ds[var].attrs['module_number'] = 1\n",
    "    ds[var].attrs['sensor'] = 'Attitude'\n",
    "    ds[var].attrs['model'] = 'ABX-Two'\n",
    "    ds[var].attrs['serial_number'] = '544C02743'\n",
    "    ds[var].attrs['manufacturer'] = 'Trimble'\n",
    "    ds[var].attrs['location'] = \"Bridge starboard\"\n",
    "    ds[var].attrs['owner'] = 'SIO/STS'\n",
    "    ds[var].attrs['calibration_lab'] = 'n/a'\n",
    "    ds[var].attrs['calibration_date'] = '24-Oct-2020'\n",
    "    ds[var].attrs['installation_date'] = '15-Oct-2020'\n",
    "    ds[var].attrs['comments'] = ''\n",
    "    ds[var].attrs['write_to_file'] = \"True\"\n",
    "    ds[var].attrs['number_parameters_returned_from_sensor'] = 3\n",
    "    ds[var].attrs['additional_parameters_computed'] = 0\n",
    "    ds[var].attrs['total'] = 3\n",
    "    ds[var].attrs['parameter_tags'] = ['SH', 'SM', 'SR']\n",
    "    ds[var].attrs[['sh_number', 'sm_number', 'sr_number'][i % 3]] = 1\n",
    "    ds[var].attrs['seconds_averaged'] = 0.0\n",
    "    ds[var].attrs['units'] = 'degrees'\n",
    "    ds[var].attrs['long_name'] = 'Heading' if var in ['SH'] else 'Pitch' if var in ['SM'] else 'Roll'\n",
    "    ds[var].attrs['standard_name'] = 'Heading' if var in ['SH'] else 'pitch' if var in ['SM'] else 'poll'\n",
    "    ds[var].attrs['valid_min'] = 0 if var in ['SH'] else -1e10\n",
    "    ds[var].attrs['valid_max'] = 360 if var in ['SH'] else 1e10\n",
    "    ds[var].attrs['status'] = '1-OK'\n",
    "    ds[var].attrs['status_explanation'] = status_explanation"
   ]
  },
  {
   "cell_type": "code",
   "execution_count": 11,
   "id": "665e323b-4910-44b9-9919-3697f8e30f56",
   "metadata": {},
   "outputs": [],
   "source": [
    "# Longwave radiation sensor\n",
    "for i, var in enumerate(['LD', 'LB', 'LT', 'LW']):\n",
    "    \n",
    "    ds[var].attrs['module'] = 'LWR21'\n",
    "    ds[var].attrs['module_number'] = 1\n",
    "    ds[var].attrs['sensor'] = 'Long Wave Radiation'\n",
    "    ds[var].attrs['model'] = 'PIR'\n",
    "    ds[var].attrs['serial_number'] = '38301F3'\n",
    "    ds[var].attrs['manufacturer'] = 'Eppley Labs'\n",
    "    ds[var].attrs['location'] = \"MET Mast 68'above MWL\"\n",
    "    ds[var].attrs['owner'] = 'SIO/STS'\n",
    "    ds[var].attrs['calibration_lab'] = 'Eppley'\n",
    "    ds[var].attrs['calibration_date'] = '05-Oct-2022'\n",
    "    ds[var].attrs['installation_date'] = '27-Oct-2022'\n",
    "    ds[var].attrs['comments'] = ''\n",
    "    ds[var].attrs['write_to_file'] = \"True\"\n",
    "    ds[var].attrs['number_parameters_returned_from_sensor'] = 3\n",
    "    ds[var].attrs['additional_parameters_computed'] = 1\n",
    "    ds[var].attrs['total'] = 4\n",
    "    ds[var].attrs['parameter_tags'] = ['LD', 'LB', 'LT', 'LW']\n",
    "    ds[var].attrs[['ld_number', 'lb_number', 'lt_number', 'lw_number'][i % 4]] = 1\n",
    "    ds[var].attrs['seconds_averaged'] = 0.0\n",
    "    ds[var].attrs['units'] = 'degrees' if var in ['LD', 'LB'] else 'uv' if var in ['LT'] else 'W/m2'\n",
    "    ds[var].attrs['long_name'] = 'Long Wave Radiation Dome Temperature' if var in ['LD'] else 'Long Wave Radiation Body Temperature' if var in ['LB'] else 'Long Wave Radiation Thermopile Volts' if var in ['LT'] else 'Long Wave Radiation'\n",
    "    ds[var].attrs['standard_name'] = 'longwave_radiation_dome_temperature' if var in ['LD'] else 'longwave_radiation_body_temperature' if var in ['LB'] else 'longwave_radiation_thermopile_volts' if var in ['LT'] else 'longwave_radiation'\n",
    "    ds[var].attrs['valid_min'] = -1e10 if var in ['LD', 'LB'] else -1e5\n",
    "    ds[var].attrs['valid_max'] = 1e5\n",
    "    ds[var].attrs['status'] = '1-OK'\n",
    "    ds[var].attrs['status_explanation'] = status_explanation"
   ]
  },
  {
   "cell_type": "code",
   "execution_count": 12,
   "id": "393a7986-c26e-4fda-80d6-ef440e18ee5e",
   "metadata": {},
   "outputs": [],
   "source": [
    "# Shortwave radiation sensor\n",
    "var = 'SW'\n",
    "\n",
    "ds[var].attrs['module'] = 'SWR21'\n",
    "ds[var].attrs['module_number'] = 1\n",
    "ds[var].attrs['sensor'] = 'Short Wave Radiation'\n",
    "ds[var].attrs['model'] = 'SPP'\n",
    "ds[var].attrs['serial_number'] = '38361F3'\n",
    "ds[var].attrs['manufacturer'] = 'Eppley Labs'\n",
    "ds[var].attrs['location'] = \"MET Mast 68'above MWL\"\n",
    "ds[var].attrs['owner'] = 'SIO/STS'\n",
    "ds[var].attrs['calibration_lab'] = 'Eppley Labs'\n",
    "ds[var].attrs['calibration_date'] = '03-Oct-2022'\n",
    "ds[var].attrs['installation_date'] = '27-Oct-2022'\n",
    "ds[var].attrs['comments'] = ''\n",
    "ds[var].attrs['write_to_file'] = \"True\"\n",
    "ds[var].attrs['number_parameters_returned_from_sensor'] = 1\n",
    "ds[var].attrs['additional_parameters_computed'] = 0\n",
    "ds[var].attrs['total'] = 1\n",
    "ds[var].attrs['parameter_tags'] = ['SW']\n",
    "ds[var].attrs['sw_number'] = 1\n",
    "ds[var].attrs['seconds_averaged'] = 0.0\n",
    "ds[var].attrs['units'] = 'W/m2'\n",
    "ds[var].attrs['long_name'] = 'Shortwave Radiation'\n",
    "ds[var].attrs['standard_name'] = 'shortwave_radiation'\n",
    "ds[var].attrs['valid_min'] = -5.0e1\n",
    "ds[var].attrs['valid_max'] = 5.0e4\n",
    "ds[var].attrs['status'] = '2-OK'\n",
    "ds[var].attrs['status_explanation'] = status_explanation"
   ]
  },
  {
   "cell_type": "markdown",
   "id": "93b80abf-2796-41b9-b5ec-460baba55d4c",
   "metadata": {},
   "source": [
    "#### Temporally select the same time as the Sailbuoys"
   ]
  },
  {
   "cell_type": "markdown",
   "id": "f7d36136-9d2f-4964-b377-f50fe1f46a32",
   "metadata": {},
   "source": [
    "The Sailbuoys measure one value every ten minutes, which is not the same as a 10-minute average. So we need to select the corresponding times in the ship data to match the Sailbuoys.\n",
    "\n",
    "Kringla's observations start at 02:00 and ends 02:30, while PimPim starts at 01:40 and ends 02:10, this is due to a shorter startup delay."
   ]
  },
  {
   "cell_type": "code",
   "execution_count": 14,
   "id": "9e2d1cef-2d35-49dd-acc2-f70717858d8f",
   "metadata": {},
   "outputs": [],
   "source": [
    "ds = ds.resample(time='30s').mean()"
   ]
  },
  {
   "cell_type": "code",
   "execution_count": 28,
   "id": "3fbdc6fb-2ef3-4d08-8adb-3c7e5b53821e",
   "metadata": {},
   "outputs": [],
   "source": [
    "ds.to_netcdf('/Users/xedhjo/Documents/Projects/2023_Validating_Sailbuoy/data/ship_met_quicche_30s.nc')"
   ]
  },
  {
   "cell_type": "code",
   "execution_count": 18,
   "id": "d95a2b3d-8ad7-4fab-9f1f-e6e83bd30083",
   "metadata": {},
   "outputs": [],
   "source": [
    "ds_10 = ds.sel(time=np.arange(ds.time.values[0],ds.time.values[-1]+np.timedelta64(1,'m'),np.timedelta64(10,'m')))"
   ]
  },
  {
   "cell_type": "markdown",
   "id": "fa277368-f569-4519-b1e5-c11dab578675",
   "metadata": {},
   "source": [
    "### Saving the data"
   ]
  },
  {
   "cell_type": "code",
   "execution_count": 30,
   "id": "88d236b2-22df-4f19-a5cf-38e4fae4cada",
   "metadata": {},
   "outputs": [],
   "source": [
    "ds_10.to_netcdf('/Users/xedhjo/Documents/Projects/2023_Validating_Sailbuoy/data/ship_met_quicche.nc')"
   ]
  },
  {
   "cell_type": "code",
   "execution_count": null,
   "id": "671f5625-41f6-4ec3-b228-bfaefea024a2",
   "metadata": {},
   "outputs": [],
   "source": []
  }
 ],
 "metadata": {
  "kernelspec": {
   "display_name": "Python 3 (ipykernel)",
   "language": "python",
   "name": "python3"
  },
  "language_info": {
   "codemirror_mode": {
    "name": "ipython",
    "version": 3
   },
   "file_extension": ".py",
   "mimetype": "text/x-python",
   "name": "python",
   "nbconvert_exporter": "python",
   "pygments_lexer": "ipython3",
   "version": "3.11.5"
  }
 },
 "nbformat": 4,
 "nbformat_minor": 5
}
