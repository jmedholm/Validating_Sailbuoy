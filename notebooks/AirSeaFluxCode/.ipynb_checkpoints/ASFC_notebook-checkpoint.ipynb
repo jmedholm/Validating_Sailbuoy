{
 "cells": [
  {
   "cell_type": "markdown",
   "metadata": {},
   "source": [
    "## Introduction\n",
    "\n",
    "AirSeaFluxCode is developed to provide an easy and accessible way to calculate turbulent surface fluxes (TSFs) from a small number of bulk variables and for a viariety of bulk algorithms. \n",
    "\n",
    "By running AirSeaFluxCode you can compare different bulk algorithms and to also investigate the effect choices within the implementation of each parameterisation have on the TSFs estimates. \n"
   ]
  },
  {
   "cell_type": "markdown",
   "metadata": {},
   "source": [
    "### Getting started\n",
    "\n",
    "Let's first import the basic python packages we will need for reading in our input data, to perform basic statistics  and plotting"
   ]
  },
  {
   "cell_type": "code",
   "execution_count": 1,
   "metadata": {},
   "outputs": [
    {
     "ename": "ModuleNotFoundError",
     "evalue": "No module named 'hum_subs.py'; 'hum_subs' is not a package",
     "output_type": "error",
     "traceback": [
      "\u001b[0;31m---------------------------------------------------------------------------\u001b[0m",
      "\u001b[0;31mModuleNotFoundError\u001b[0m                       Traceback (most recent call last)",
      "Cell \u001b[0;32mIn[1], line 9\u001b[0m\n\u001b[1;32m      7\u001b[0m \u001b[38;5;28;01mimport\u001b[39;00m \u001b[38;5;21;01mpandas\u001b[39;00m \u001b[38;5;28;01mas\u001b[39;00m \u001b[38;5;21;01mpd\u001b[39;00m\n\u001b[1;32m      8\u001b[0m \u001b[38;5;28;01mfrom\u001b[39;00m \u001b[38;5;21;01mtabulate\u001b[39;00m \u001b[38;5;28;01mimport\u001b[39;00m tabulate\n\u001b[0;32m----> 9\u001b[0m \u001b[38;5;28;01mimport\u001b[39;00m \u001b[38;5;21;01mAirSeaFluxCode\u001b[39;00m\n",
      "File \u001b[0;32m~/Documents/Projects/AirSeaFluxCode-master/AirSeaFluxCode/src/AirSeaFluxCode.py:7\u001b[0m\n\u001b[1;32m      5\u001b[0m \u001b[38;5;28;01mimport\u001b[39;00m \u001b[38;5;21;01msys\u001b[39;00m\n\u001b[1;32m      6\u001b[0m sys\u001b[38;5;241m.\u001b[39mpath\u001b[38;5;241m.\u001b[39mappend(\u001b[38;5;124m\"\u001b[39m\u001b[38;5;124m/Users/xedhjo/Documents/Projects/AirSeaFluxCode-master/AirSeaFluxCode/\u001b[39m\u001b[38;5;124m\"\u001b[39m)  \u001b[38;5;66;03m# go to parent dir\u001b[39;00m\n\u001b[0;32m----> 7\u001b[0m \u001b[38;5;28;01mfrom\u001b[39;00m \u001b[38;5;21;01mhum_subs\u001b[39;00m\u001b[38;5;21;01m.\u001b[39;00m\u001b[38;5;21;01mpy\u001b[39;00m \u001b[38;5;28;01mimport\u001b[39;00m (get_hum, gamma)\n\u001b[1;32m      8\u001b[0m \u001b[38;5;28;01mfrom\u001b[39;00m \u001b[38;5;21;01mutil_subs\u001b[39;00m\u001b[38;5;21;01m.\u001b[39;00m\u001b[38;5;21;01mpy\u001b[39;00m \u001b[38;5;28;01mimport\u001b[39;00m \u001b[38;5;241m*\u001b[39m\n\u001b[1;32m      9\u001b[0m \u001b[38;5;28;01mfrom\u001b[39;00m \u001b[38;5;21;01mflux_subs\u001b[39;00m\u001b[38;5;21;01m.\u001b[39;00m\u001b[38;5;21;01mpy\u001b[39;00m \u001b[38;5;28;01mimport\u001b[39;00m \u001b[38;5;241m*\u001b[39m\n",
      "\u001b[0;31mModuleNotFoundError\u001b[0m: No module named 'hum_subs.py'; 'hum_subs' is not a package"
     ]
    }
   ],
   "source": [
    "# first import all packages you might need\n",
    "%matplotlib inline\n",
    "import matplotlib.pyplot as plt\n",
    "import netCDF4 as nc\n",
    "import numpy as np\n",
    "import xarray as xr\n",
    "import pandas as pd\n",
    "from tabulate import tabulate\n",
    "import AirSeaFluxCode"
   ]
  },
  {
   "cell_type": "markdown",
   "metadata": {
    "tags": []
   },
   "source": [
    "### AirSeaFluxCode examples\n",
    "\n",
    "AirSeaFluxCode is set up to run in its default setting with a minimum number of input variables, namely wind speed; air temperature; and sea surface temperature. Let's load the code, import some real data composed for testing it (Research vessel data) and run AirSeaFluxCode with default settings (output height 10m, cool skin/warm layer corrections turned off, bulk algorithm Smith 1988, gustiness on, saturation vapour pressure following Buck (2012), tolerance limits set for both flux estimates and height adjusted variables (['all', 0.01, 0.01, 1e-05, 1e-3, 0.1, 0.1]), number of iterations are ten, non converged points are set to missing and Monin-Obukhov stability length is calculated following the ECMWF implementation."
   ]
  },
  {
   "cell_type": "code",
   "execution_count": 3,
   "metadata": {},
   "outputs": [
    {
     "ename": "TypeError",
     "evalue": "'module' object is not callable",
     "output_type": "error",
     "traceback": [
      "\u001b[0;31m---------------------------------------------------------------------------\u001b[0m",
      "\u001b[0;31mTypeError\u001b[0m                                 Traceback (most recent call last)",
      "Cell \u001b[0;32mIn[3], line 38\u001b[0m\n\u001b[1;32m     36\u001b[0m outvar \u001b[38;5;241m=\u001b[39m (\u001b[38;5;124m\"\u001b[39m\u001b[38;5;124mtau\u001b[39m\u001b[38;5;124m\"\u001b[39m, \u001b[38;5;124m\"\u001b[39m\u001b[38;5;124msensible\u001b[39m\u001b[38;5;124m\"\u001b[39m, \u001b[38;5;124m\"\u001b[39m\u001b[38;5;124mlatent\u001b[39m\u001b[38;5;124m\"\u001b[39m, \u001b[38;5;124m\"\u001b[39m\u001b[38;5;124mu10n\u001b[39m\u001b[38;5;124m\"\u001b[39m, \u001b[38;5;124m\"\u001b[39m\u001b[38;5;124mt10n\u001b[39m\u001b[38;5;124m\"\u001b[39m, \u001b[38;5;124m\"\u001b[39m\u001b[38;5;124mq10n\u001b[39m\u001b[38;5;124m\"\u001b[39m)\n\u001b[1;32m     37\u001b[0m \u001b[38;5;66;03m# run AirSeaFluxCode\u001b[39;00m\n\u001b[0;32m---> 38\u001b[0m res \u001b[38;5;241m=\u001b[39m AirSeaFluxCode(spd, t, sst, \u001b[38;5;124m\"\u001b[39m\u001b[38;5;124mbulk\u001b[39m\u001b[38;5;124m\"\u001b[39m, meth\u001b[38;5;241m=\u001b[39m\u001b[38;5;124m\"\u001b[39m\u001b[38;5;124mUA\u001b[39m\u001b[38;5;124m\"\u001b[39m, lat\u001b[38;5;241m=\u001b[39mlat, hin\u001b[38;5;241m=\u001b[39mhin, hum\u001b[38;5;241m=\u001b[39m[\u001b[38;5;124m\"\u001b[39m\u001b[38;5;124mrh\u001b[39m\u001b[38;5;124m\"\u001b[39m, rh], P\u001b[38;5;241m=\u001b[39mp, cskin\u001b[38;5;241m=\u001b[39m\u001b[38;5;241m0\u001b[39m, Rs\u001b[38;5;241m=\u001b[39msw,\n\u001b[1;32m     39\u001b[0m                      tol\u001b[38;5;241m=\u001b[39m[\u001b[38;5;124m'\u001b[39m\u001b[38;5;124mall\u001b[39m\u001b[38;5;124m'\u001b[39m, \u001b[38;5;241m0.01\u001b[39m, \u001b[38;5;241m0.01\u001b[39m, \u001b[38;5;241m1e-05\u001b[39m, \u001b[38;5;241m1e-3\u001b[39m, \u001b[38;5;241m0.1\u001b[39m, \u001b[38;5;241m0.1\u001b[39m], L\u001b[38;5;241m=\u001b[39m\u001b[38;5;124m\"\u001b[39m\u001b[38;5;124mtsrv\u001b[39m\u001b[38;5;124m\"\u001b[39m, out_var \u001b[38;5;241m=\u001b[39m outvar)\n\u001b[1;32m     40\u001b[0m flg \u001b[38;5;241m=\u001b[39m res[\u001b[38;5;124m\"\u001b[39m\u001b[38;5;124mflag\u001b[39m\u001b[38;5;124m\"\u001b[39m]\n",
      "\u001b[0;31mTypeError\u001b[0m: 'module' object is not callable"
     ]
    }
   ],
   "source": [
    "sbk = xr.open_dataset('/Users/xedhjo/Documents/Projects/2023_Validating_Sailbuoy/data/kringla_quicche.nc')\n",
    "\n",
    "## Sailbuoy\n",
    "jd    = sbk['doy'].interpolate_na('time').data\n",
    "u     = sbk['wind_speed'].interpolate_na('time').data\n",
    "zu    = 1\n",
    "t     = sbk['air_temp'].interpolate_na('time').data\n",
    "zt    = 1\n",
    "rh    = np.ones(len(jd))*80 # sbk['rh'].interpolate_na('time').data\n",
    "zq    = 1\n",
    "P     = np.ones(len(jd))*1013\n",
    "ts    = sbk['sst'].interpolate_na('time').values\n",
    "sw_dn = np.zeros(len(jd))\n",
    "lw_dn = np.zeros(len(jd))\n",
    "lat   = sbk['latitude'].interpolate_na('time').data\n",
    "lon   = sbk['longitude'].interpolate_na('time').data\n",
    "zi    = 600\n",
    "rain  = 0 \n",
    "zts   = -1\n",
    "Ss   = sbk['sss'].interpolate_na('time').data\n",
    "\n",
    "date = np.asarray(sbk[\"doy\"])\n",
    "lon = np.asarray(sbk[\"longitude\"])\n",
    "lat = np.asarray(sbk[\"latitude\"])\n",
    "spd = np.asarray(sbk[\"wind_speed\"])\n",
    "t = np.asarray(sbk[\"air_temp\"])\n",
    "sst = np.asarray(sbk[\"sst\"])\n",
    "rh = np.asarray(np.ones(len(jd))*80)\n",
    "p = np.asarray(np.ones(len(jd))*1013)\n",
    "sw = np.asarray(np.zeros(len(jd)))\n",
    "hu = np.asarray(1)\n",
    "ht = np.asarray(1)\n",
    "hin = np.array([hu, ht, ht])\n",
    "del hu, ht\n",
    "\n",
    "outvar = (\"tau\", \"sensible\", \"latent\", \"u10n\", \"t10n\", \"q10n\")\n",
    "# run AirSeaFluxCode\n",
    "res = AirSeaFluxCode(spd, t, sst, \"bulk\", meth=\"UA\", lat=lat, hin=hin, hum=[\"rh\", rh], P=p, cskin=0, Rs=sw,\n",
    "                     tol=['all', 0.01, 0.01, 1e-05, 1e-3, 0.1, 0.1], L=\"tsrv\", out_var = outvar)\n",
    "flg = res[\"flag\"]"
   ]
  },
  {
   "cell_type": "markdown",
   "metadata": {},
   "source": [
    "res is the output of AirSeaFluxCode which is a dataFrame with keys: \"tau\", \"sensible\", \"latent\", \"u10n\", \"t10n\", \"q10n\". Let's plot the flux estimates."
   ]
  },
  {
   "cell_type": "code",
   "execution_count": null,
   "metadata": {},
   "outputs": [],
   "source": [
    "fig, ax = plt.subplots(3, 1, sharex=True, sharey=False)\n",
    "fig.tight_layout()\n",
    "ax[0].plot(res[\"tau\"], \"-\", color=\"grey\", linewidth=1, alpha = 0.8)\n",
    "ax[1].plot(res[\"sensible\"], \"-\", color=\"grey\", linewidth=1, alpha = 0.8)\n",
    "ax[2].plot(res[\"latent\"], \"-\", color=\"grey\", linewidth=1, alpha = 0.8)\n",
    "ax[0].set_ylabel('tau (Nm$^{-2}$)')\n",
    "ax[1].set_ylabel('shf (Wm$^{-2}$)')\n",
    "ax[2].set_ylabel('lhf (Wm$^{-2}$)')\n",
    "plt.show()"
   ]
  },
  {
   "cell_type": "markdown",
   "metadata": {},
   "source": [
    "You can save the output in a csv file"
   ]
  },
  {
   "cell_type": "code",
   "execution_count": null,
   "metadata": {},
   "outputs": [],
   "source": [
    "res.to_csv(\"test_AirSeaFluxCode.csv\")"
   ]
  },
  {
   "cell_type": "markdown",
   "metadata": {},
   "source": [
    "and generate some statistics which you can save in a txt file"
   ]
  },
  {
   "cell_type": "code",
   "execution_count": null,
   "metadata": {},
   "outputs": [],
   "source": [
    "print(\"Input summary\", file=open('./stats.txt', 'a'))\n",
    "print('input file name: {}, \\n method: {}, \\n gustiness: {}, \\n cskin: {},'\n",
    "      ' \\n tolerance: {}, \\n qmethod: {}, \\n L: {}'.format(\"data_all.csv\", \"UA\", \"on\",\n",
    "                                                           0, \"all\", \"Buck2\", \"Rb\"),\n",
    "      file=open('./stats.txt', 'a'))\n",
    "ttl = np.asarray([\"tau  \", \"shf  \", \"lhf  \", \"u10n \", \"t10n \", \"q10n \"])\n",
    "header = [\"var\", \"mean\", \"median\", \"min\", \"max\", \"5%\", \"95%\"]\n",
    "n = np.shape(res)\n",
    "stats = np.copy(ttl)\n",
    "a = res.iloc[:,:-1].to_numpy(dtype=\"float64\").T\n",
    "stats = np.c_[stats, np.nanmean(a, axis=1)]\n",
    "stats = np.c_[stats, np.nanmedian(a, axis=1)]\n",
    "stats = np.c_[stats, np.nanmin(a, axis=1)]\n",
    "stats = np.c_[stats, np.nanmax(a, axis=1)]\n",
    "stats = np.c_[stats, np.nanpercentile(a, 5, axis=1)]\n",
    "stats = np.c_[stats, np.nanpercentile(a, 95, axis=1)]\n",
    "print(tabulate(stats, headers=header, tablefmt=\"github\", numalign=\"left\",\n",
    "               floatfmt=(\"s\", \"2.2e\", \"2.2e\", \"2.2e\", \"2.2e\", \"2.2e\", \"2.2e\")),\n",
    "      file=open('./stats.txt', 'a'))\n",
    "print('-'*79+'\\n', file=open('./stats.txt', 'a'))\n",
    "del a"
   ]
  },
  {
   "cell_type": "code",
   "execution_count": 14,
   "metadata": {},
   "outputs": [
    {
     "name": "stdout",
     "output_type": "stream",
     "text": [
      "\u001b[31mERROR: Could not find a version that satisfies the requirement AirSeaFluxCode (from versions: none)\u001b[0m\u001b[31m\n",
      "\u001b[0m\u001b[31mERROR: No matching distribution found for AirSeaFluxCode\u001b[0m\u001b[31m\n",
      "\u001b[0mNote: you may need to restart the kernel to use updated packages.\n"
     ]
    }
   ],
   "source": [
    "pip install AirSeaFluxCode"
   ]
  },
  {
   "cell_type": "code",
   "execution_count": null,
   "metadata": {},
   "outputs": [],
   "source": []
  }
 ],
 "metadata": {
  "kernelspec": {
   "display_name": "Python 3 (ipykernel)",
   "language": "python",
   "name": "python3"
  },
  "language_info": {
   "codemirror_mode": {
    "name": "ipython",
    "version": 3
   },
   "file_extension": ".py",
   "mimetype": "text/x-python",
   "name": "python",
   "nbconvert_exporter": "python",
   "pygments_lexer": "ipython3",
   "version": "3.11.3"
  }
 },
 "nbformat": 4,
 "nbformat_minor": 4
}
